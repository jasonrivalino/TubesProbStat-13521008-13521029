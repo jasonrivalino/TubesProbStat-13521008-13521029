{
 "cells": [
  {
   "cell_type": "code",
   "execution_count": 85,
   "id": "58a5cf4b",
   "metadata": {},
   "outputs": [],
   "source": [
    "import pandas as pd\n",
    "import numpy as np\n",
    "\n",
    "df = pd.read_csv(\"anggur.csv\")"
   ]
  },
  {
   "cell_type": "code",
   "execution_count": 11,
   "id": "a2ad31a2",
   "metadata": {},
   "outputs": [
    {
     "data": {
      "text/html": [
       "<div>\n",
       "<style scoped>\n",
       "    .dataframe tbody tr th:only-of-type {\n",
       "        vertical-align: middle;\n",
       "    }\n",
       "\n",
       "    .dataframe tbody tr th {\n",
       "        vertical-align: top;\n",
       "    }\n",
       "\n",
       "    .dataframe thead th {\n",
       "        text-align: right;\n",
       "    }\n",
       "</style>\n",
       "<table border=\"1\" class=\"dataframe\">\n",
       "  <thead>\n",
       "    <tr style=\"text-align: right;\">\n",
       "      <th></th>\n",
       "      <th>fixed acidity</th>\n",
       "      <th>volatile acidity</th>\n",
       "      <th>citric acid</th>\n",
       "      <th>residual sugar</th>\n",
       "      <th>chlorides</th>\n",
       "      <th>free sulfur dioxide</th>\n",
       "      <th>total sulfur dioxide</th>\n",
       "      <th>density</th>\n",
       "      <th>pH</th>\n",
       "      <th>sulphates</th>\n",
       "      <th>alcohol</th>\n",
       "      <th>quality</th>\n",
       "    </tr>\n",
       "  </thead>\n",
       "  <tbody>\n",
       "    <tr>\n",
       "      <th>count</th>\n",
       "      <td>1000.000000</td>\n",
       "      <td>1000.000000</td>\n",
       "      <td>1000.000000</td>\n",
       "      <td>1000.000000</td>\n",
       "      <td>1000.000000</td>\n",
       "      <td>1000.000000</td>\n",
       "      <td>1000.000000</td>\n",
       "      <td>1000.000000</td>\n",
       "      <td>1000.000000</td>\n",
       "      <td>1000.000000</td>\n",
       "      <td>1000.000000</td>\n",
       "      <td>1000.000000</td>\n",
       "    </tr>\n",
       "    <tr>\n",
       "      <th>mean</th>\n",
       "      <td>7.152530</td>\n",
       "      <td>0.520839</td>\n",
       "      <td>0.270517</td>\n",
       "      <td>2.567104</td>\n",
       "      <td>0.081195</td>\n",
       "      <td>14.907679</td>\n",
       "      <td>40.290150</td>\n",
       "      <td>0.995925</td>\n",
       "      <td>3.303610</td>\n",
       "      <td>0.598390</td>\n",
       "      <td>10.592280</td>\n",
       "      <td>7.958000</td>\n",
       "    </tr>\n",
       "    <tr>\n",
       "      <th>std</th>\n",
       "      <td>1.201598</td>\n",
       "      <td>0.095848</td>\n",
       "      <td>0.049098</td>\n",
       "      <td>0.987915</td>\n",
       "      <td>0.020111</td>\n",
       "      <td>4.888100</td>\n",
       "      <td>9.965767</td>\n",
       "      <td>0.002020</td>\n",
       "      <td>0.104875</td>\n",
       "      <td>0.100819</td>\n",
       "      <td>1.510706</td>\n",
       "      <td>0.902802</td>\n",
       "    </tr>\n",
       "    <tr>\n",
       "      <th>min</th>\n",
       "      <td>3.320000</td>\n",
       "      <td>0.139900</td>\n",
       "      <td>0.116700</td>\n",
       "      <td>0.032555</td>\n",
       "      <td>0.015122</td>\n",
       "      <td>0.194679</td>\n",
       "      <td>3.150000</td>\n",
       "      <td>0.988800</td>\n",
       "      <td>2.970000</td>\n",
       "      <td>0.290000</td>\n",
       "      <td>6.030000</td>\n",
       "      <td>5.000000</td>\n",
       "    </tr>\n",
       "    <tr>\n",
       "      <th>25%</th>\n",
       "      <td>6.377500</td>\n",
       "      <td>0.456100</td>\n",
       "      <td>0.237800</td>\n",
       "      <td>1.896330</td>\n",
       "      <td>0.066574</td>\n",
       "      <td>11.426717</td>\n",
       "      <td>33.785000</td>\n",
       "      <td>0.994600</td>\n",
       "      <td>3.230000</td>\n",
       "      <td>0.530000</td>\n",
       "      <td>9.560000</td>\n",
       "      <td>7.000000</td>\n",
       "    </tr>\n",
       "    <tr>\n",
       "      <th>50%</th>\n",
       "      <td>7.150000</td>\n",
       "      <td>0.524850</td>\n",
       "      <td>0.272200</td>\n",
       "      <td>2.519430</td>\n",
       "      <td>0.082167</td>\n",
       "      <td>14.860346</td>\n",
       "      <td>40.190000</td>\n",
       "      <td>0.996000</td>\n",
       "      <td>3.300000</td>\n",
       "      <td>0.595000</td>\n",
       "      <td>10.610000</td>\n",
       "      <td>8.000000</td>\n",
       "    </tr>\n",
       "    <tr>\n",
       "      <th>75%</th>\n",
       "      <td>8.000000</td>\n",
       "      <td>0.585375</td>\n",
       "      <td>0.302325</td>\n",
       "      <td>3.220873</td>\n",
       "      <td>0.095312</td>\n",
       "      <td>18.313098</td>\n",
       "      <td>47.022500</td>\n",
       "      <td>0.997200</td>\n",
       "      <td>3.370000</td>\n",
       "      <td>0.670000</td>\n",
       "      <td>11.622500</td>\n",
       "      <td>9.000000</td>\n",
       "    </tr>\n",
       "    <tr>\n",
       "      <th>max</th>\n",
       "      <td>11.490000</td>\n",
       "      <td>0.805100</td>\n",
       "      <td>0.409600</td>\n",
       "      <td>5.550755</td>\n",
       "      <td>0.140758</td>\n",
       "      <td>27.462525</td>\n",
       "      <td>69.960000</td>\n",
       "      <td>1.002600</td>\n",
       "      <td>3.710000</td>\n",
       "      <td>0.960000</td>\n",
       "      <td>15.020000</td>\n",
       "      <td>10.000000</td>\n",
       "    </tr>\n",
       "  </tbody>\n",
       "</table>\n",
       "</div>"
      ],
      "text/plain": [
       "       fixed acidity  volatile acidity  citric acid  residual sugar  \\\n",
       "count    1000.000000       1000.000000  1000.000000     1000.000000   \n",
       "mean        7.152530          0.520839     0.270517        2.567104   \n",
       "std         1.201598          0.095848     0.049098        0.987915   \n",
       "min         3.320000          0.139900     0.116700        0.032555   \n",
       "25%         6.377500          0.456100     0.237800        1.896330   \n",
       "50%         7.150000          0.524850     0.272200        2.519430   \n",
       "75%         8.000000          0.585375     0.302325        3.220873   \n",
       "max        11.490000          0.805100     0.409600        5.550755   \n",
       "\n",
       "         chlorides  free sulfur dioxide  total sulfur dioxide      density  \\\n",
       "count  1000.000000          1000.000000           1000.000000  1000.000000   \n",
       "mean      0.081195            14.907679             40.290150     0.995925   \n",
       "std       0.020111             4.888100              9.965767     0.002020   \n",
       "min       0.015122             0.194679              3.150000     0.988800   \n",
       "25%       0.066574            11.426717             33.785000     0.994600   \n",
       "50%       0.082167            14.860346             40.190000     0.996000   \n",
       "75%       0.095312            18.313098             47.022500     0.997200   \n",
       "max       0.140758            27.462525             69.960000     1.002600   \n",
       "\n",
       "                pH    sulphates      alcohol      quality  \n",
       "count  1000.000000  1000.000000  1000.000000  1000.000000  \n",
       "mean      3.303610     0.598390    10.592280     7.958000  \n",
       "std       0.104875     0.100819     1.510706     0.902802  \n",
       "min       2.970000     0.290000     6.030000     5.000000  \n",
       "25%       3.230000     0.530000     9.560000     7.000000  \n",
       "50%       3.300000     0.595000    10.610000     8.000000  \n",
       "75%       3.370000     0.670000    11.622500     9.000000  \n",
       "max       3.710000     0.960000    15.020000    10.000000  "
      ]
     },
     "execution_count": 11,
     "metadata": {},
     "output_type": "execute_result"
    }
   ],
   "source": [
    "# Menampilkan banyak data (banyak baris), rata-rata nilai, standar deviasi, nilai minimal dan maksimal, serta kuartil\n",
    "df.describe()"
   ]
  },
  {
   "cell_type": "code",
   "execution_count": 50,
   "id": "70cb0898",
   "metadata": {},
   "outputs": [
    {
     "name": "stdout",
     "output_type": "stream",
     "text": [
      "Banyaknya jumlah baris dalam data adalah: 1000\n"
     ]
    }
   ],
   "source": [
    "# Menampilkan banyak data (banyak baris)\n",
    "print(\"Banyaknya jumlah baris dalam data adalah:\",df.shape[0])"
   ]
  },
  {
   "cell_type": "code",
   "execution_count": 48,
   "id": "1ab945c2",
   "metadata": {},
   "outputs": [
    {
     "name": "stdout",
     "output_type": "stream",
     "text": [
      "Banyaknya jumlah kolom dalam data adalah: 12\n"
     ]
    }
   ],
   "source": [
    "# Menampilkan banyak atribut (banyak kolom)\n",
    "print(\"Banyaknya jumlah kolom dalam data adalah:\",df.shape[1])"
   ]
  },
  {
   "cell_type": "code",
   "execution_count": 59,
   "id": "6ab4be94",
   "metadata": {},
   "outputs": [
    {
     "name": "stdout",
     "output_type": "stream",
     "text": [
      "Rata-rata dari keseluruhan data adalah:\n",
      "fixed acidity            7.152530\n",
      "volatile acidity         0.520839\n",
      "citric acid              0.270517\n",
      "residual sugar           2.567104\n",
      "chlorides                0.081195\n",
      "free sulfur dioxide     14.907679\n",
      "total sulfur dioxide    40.290150\n",
      "density                  0.995925\n",
      "pH                       3.303610\n",
      "sulphates                0.598390\n",
      "alcohol                 10.592280\n",
      "quality                  7.958000\n",
      "dtype: float64\n"
     ]
    }
   ],
   "source": [
    "# Menampilkan rata-rata dari data\n",
    "print(\"Rata-rata dari keseluruhan data adalah:\")\n",
    "print(df.mean())"
   ]
  },
  {
   "cell_type": "code",
   "execution_count": 64,
   "id": "e76d33f7",
   "metadata": {},
   "outputs": [
    {
     "name": "stdout",
     "output_type": "stream",
     "text": [
      "Median dari keseluruhan data adalah:\n",
      "fixed acidity            7.150000\n",
      "volatile acidity         0.524850\n",
      "citric acid              0.272200\n",
      "residual sugar           2.519430\n",
      "chlorides                0.082167\n",
      "free sulfur dioxide     14.860346\n",
      "total sulfur dioxide    40.190000\n",
      "density                  0.996000\n",
      "pH                       3.300000\n",
      "sulphates                0.595000\n",
      "alcohol                 10.610000\n",
      "quality                  8.000000\n",
      "dtype: float64\n"
     ]
    }
   ],
   "source": [
    "# Menampilkan median dari data\n",
    "print(\"Median dari keseluruhan data adalah:\")\n",
    "print(df.median())"
   ]
  },
  {
   "cell_type": "code",
   "execution_count": 63,
   "id": "05a52316",
   "metadata": {},
   "outputs": [
    {
     "name": "stdout",
     "output_type": "stream",
     "text": [
      "Modus dari keseluruhan data adalah:\n",
      "fixed acidity            6.540000\n",
      "volatile acidity         0.554600\n",
      "citric acid              0.301900\n",
      "residual sugar           0.032555\n",
      "chlorides                0.015122\n",
      "free sulfur dioxide      0.194679\n",
      "total sulfur dioxide    35.200000\n",
      "density                  0.995900\n",
      "pH                       3.340000\n",
      "sulphates                0.590000\n",
      "alcohol                  9.860000\n",
      "quality                  8.000000\n",
      "Name: 0, dtype: float64\n"
     ]
    }
   ],
   "source": [
    "# Menampilkan modus dari data (mengambil data dari tabel teratas saja)\n",
    "print(\"Modus dari keseluruhan data adalah:\")\n",
    "modus = df.mode()\n",
    "print(modus.loc[0])"
   ]
  },
  {
   "cell_type": "code",
   "execution_count": 66,
   "id": "a674f055",
   "metadata": {},
   "outputs": [
    {
     "name": "stdout",
     "output_type": "stream",
     "text": [
      "Standar deviasi dari keseluruhan data adalah:\n",
      "fixed acidity           1.201598\n",
      "volatile acidity        0.095848\n",
      "citric acid             0.049098\n",
      "residual sugar          0.987915\n",
      "chlorides               0.020111\n",
      "free sulfur dioxide     4.888100\n",
      "total sulfur dioxide    9.965767\n",
      "density                 0.002020\n",
      "pH                      0.104875\n",
      "sulphates               0.100819\n",
      "alcohol                 1.510706\n",
      "quality                 0.902802\n",
      "dtype: float64\n"
     ]
    }
   ],
   "source": [
    "# Menampilkan standar deviasi dari data\n",
    "print(\"Standar deviasi dari keseluruhan data adalah:\")\n",
    "print(df.std())"
   ]
  },
  {
   "cell_type": "code",
   "execution_count": 67,
   "id": "edeac8f7",
   "metadata": {},
   "outputs": [
    {
     "name": "stdout",
     "output_type": "stream",
     "text": [
      "Variansi dari keseluruhan data adalah:\n",
      "fixed acidity            1.443837\n",
      "volatile acidity         0.009187\n",
      "citric acid              0.002411\n",
      "residual sugar           0.975977\n",
      "chlorides                0.000404\n",
      "free sulfur dioxide     23.893519\n",
      "total sulfur dioxide    99.316519\n",
      "density                  0.000004\n",
      "pH                       0.010999\n",
      "sulphates                0.010164\n",
      "alcohol                  2.282233\n",
      "quality                  0.815051\n",
      "dtype: float64\n"
     ]
    }
   ],
   "source": [
    "# Menampilkan variansi dari data\n",
    "print(\"Variansi dari keseluruhan data adalah:\")\n",
    "print(df.var())"
   ]
  },
  {
   "cell_type": "code",
   "execution_count": 68,
   "id": "bcf3c7c3",
   "metadata": {},
   "outputs": [
    {
     "name": "stdout",
     "output_type": "stream",
     "text": [
      "Range dari keseluruhan data adalah:\n",
      "fixed acidity            8.170000\n",
      "volatile acidity         0.665200\n",
      "citric acid              0.292900\n",
      "residual sugar           5.518200\n",
      "chlorides                0.125635\n",
      "free sulfur dioxide     27.267847\n",
      "total sulfur dioxide    66.810000\n",
      "density                  0.013800\n",
      "pH                       0.740000\n",
      "sulphates                0.670000\n",
      "alcohol                  8.990000\n",
      "quality                  5.000000\n",
      "dtype: float64\n"
     ]
    }
   ],
   "source": [
    "# Menampilkan range dari data\n",
    "print(\"Range dari keseluruhan data adalah:\")\n",
    "nilaiMax = df.max()\n",
    "nilaiMin = df.min()\n",
    "print(nilaiMax-nilaiMin)"
   ]
  },
  {
   "cell_type": "code",
   "execution_count": 75,
   "id": "8b4c1cd8",
   "metadata": {},
   "outputs": [
    {
     "name": "stdout",
     "output_type": "stream",
     "text": [
      "Nilai minimum dari keseluruhan data adalah:\n",
      "fixed acidity           3.320000\n",
      "volatile acidity        0.139900\n",
      "citric acid             0.116700\n",
      "residual sugar          0.032555\n",
      "chlorides               0.015122\n",
      "free sulfur dioxide     0.194679\n",
      "total sulfur dioxide    3.150000\n",
      "density                 0.988800\n",
      "pH                      2.970000\n",
      "sulphates               0.290000\n",
      "alcohol                 6.030000\n",
      "quality                 5.000000\n",
      "dtype: float64\n"
     ]
    }
   ],
   "source": [
    "# Menampilkan nilai minimum dari data\n",
    "print(\"Nilai minimum dari keseluruhan data adalah:\")\n",
    "print(df.min())"
   ]
  },
  {
   "cell_type": "code",
   "execution_count": 73,
   "id": "39f54e3b",
   "metadata": {},
   "outputs": [
    {
     "name": "stdout",
     "output_type": "stream",
     "text": [
      "Nilai maksimum dari keseluruhan data adalah:\n",
      "fixed acidity           11.490000\n",
      "volatile acidity         0.805100\n",
      "citric acid              0.409600\n",
      "residual sugar           5.550755\n",
      "chlorides                0.140758\n",
      "free sulfur dioxide     27.462525\n",
      "total sulfur dioxide    69.960000\n",
      "density                  1.002600\n",
      "pH                       3.710000\n",
      "sulphates                0.960000\n",
      "alcohol                 15.020000\n",
      "quality                 10.000000\n",
      "dtype: float64\n"
     ]
    }
   ],
   "source": [
    "# Menampilkan nilai maksimum dari data\n",
    "print(\"Nilai maksimum dari keseluruhan data adalah:\")\n",
    "print(df.max())"
   ]
  },
  {
   "cell_type": "code",
   "execution_count": 87,
   "id": "d33193c7",
   "metadata": {},
   "outputs": [
    {
     "name": "stdout",
     "output_type": "stream",
     "text": [
      "Nilai kuartil dari keseluruhan data adalah:\n",
      "      fixed acidity  volatile acidity  citric acid  residual sugar  chlorides  \\\n",
      "0.25         6.3775          0.456100     0.237800        1.896330   0.066574   \n",
      "0.50         7.1500          0.524850     0.272200        2.519430   0.082167   \n",
      "0.75         8.0000          0.585375     0.302325        3.220873   0.095312   \n",
      "\n",
      "      free sulfur dioxide  total sulfur dioxide  density    pH  sulphates  \\\n",
      "0.25            11.426717               33.7850   0.9946  3.23      0.530   \n",
      "0.50            14.860346               40.1900   0.9960  3.30      0.595   \n",
      "0.75            18.313098               47.0225   0.9972  3.37      0.670   \n",
      "\n",
      "      alcohol  quality  \n",
      "0.25   9.5600      7.0  \n",
      "0.50  10.6100      8.0  \n",
      "0.75  11.6225      9.0  \n"
     ]
    }
   ],
   "source": [
    "# Menampilkan nilai kuartil dari data\n",
    "print(\"Nilai kuartil dari keseluruhan data adalah:\")\n",
    "print(df.quantile(np.linspace(.25, 1, 3, 0)))"
   ]
  },
  {
   "cell_type": "code",
   "execution_count": 88,
   "id": "4cb4688a",
   "metadata": {},
   "outputs": [
    {
     "name": "stdout",
     "output_type": "stream",
     "text": [
      "Nilai interkuartil range dari keseluruhan data adalah:\n",
      "fixed acidity            1.622500\n",
      "volatile acidity         0.129275\n",
      "citric acid              0.064525\n",
      "residual sugar           1.324544\n",
      "chlorides                0.028738\n",
      "free sulfur dioxide      6.886381\n",
      "total sulfur dioxide    13.237500\n",
      "density                  0.002600\n",
      "pH                       0.140000\n",
      "sulphates                0.140000\n",
      "alcohol                  2.062500\n",
      "quality                  2.000000\n",
      "dtype: float64\n"
     ]
    }
   ],
   "source": [
    "# Menampilkan nilai IQR (interquartil range) dari data\n",
    "print(\"Nilai interkuartil range dari keseluruhan data adalah:\")\n",
    "q1 = df.quantile(0.25)\n",
    "q3 = df.quantile(0.75)\n",
    "print(q3-q1)"
   ]
  },
  {
   "cell_type": "code",
   "execution_count": 74,
   "id": "f619594a",
   "metadata": {},
   "outputs": [
    {
     "name": "stdout",
     "output_type": "stream",
     "text": [
      "Skewness dari keseluruhan data adalah:\n",
      "fixed acidity          -0.028879\n",
      "volatile acidity       -0.197699\n",
      "citric acid            -0.045576\n",
      "residual sugar          0.132638\n",
      "chlorides              -0.051319\n",
      "free sulfur dioxide     0.007130\n",
      "total sulfur dioxide   -0.024060\n",
      "density                -0.076883\n",
      "pH                      0.147673\n",
      "sulphates               0.149199\n",
      "alcohol                -0.018991\n",
      "quality                -0.089054\n",
      "dtype: float64\n"
     ]
    }
   ],
   "source": [
    "# Menampilkan skewness dari data\n",
    "print(\"Skewness dari keseluruhan data adalah:\")\n",
    "print(df.skew())"
   ]
  },
  {
   "cell_type": "code",
   "execution_count": 37,
   "id": "9fd29320",
   "metadata": {},
   "outputs": [
    {
     "data": {
      "text/plain": [
       "fixed acidity          -0.019292\n",
       "volatile acidity        0.161853\n",
       "citric acid            -0.104679\n",
       "residual sugar         -0.042980\n",
       "chlorides              -0.246508\n",
       "free sulfur dioxide    -0.364964\n",
       "total sulfur dioxide    0.063950\n",
       "density                 0.016366\n",
       "pH                      0.080910\n",
       "sulphates               0.064819\n",
       "alcohol                -0.131732\n",
       "quality                 0.108291\n",
       "dtype: float64"
      ]
     },
     "execution_count": 37,
     "metadata": {},
     "output_type": "execute_result"
    }
   ],
   "source": [
    "# Menampilkan kurtosis dari data\n",
    "print(\"Kurtosis dari keseluruhan data adalah:\")\n",
    "print(df.kurtosis())"
   ]
  }
 ],
 "metadata": {
  "kernelspec": {
   "display_name": "Python 3 (ipykernel)",
   "language": "python",
   "name": "python3"
  },
  "language_info": {
   "codemirror_mode": {
    "name": "ipython",
    "version": 3
   },
   "file_extension": ".py",
   "mimetype": "text/x-python",
   "name": "python",
   "nbconvert_exporter": "python",
   "pygments_lexer": "ipython3",
   "version": "3.11.0"
  }
 },
 "nbformat": 4,
 "nbformat_minor": 5
}
